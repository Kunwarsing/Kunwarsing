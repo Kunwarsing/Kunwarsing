{
 "cells": [
  {
   "cell_type": "markdown",
   "metadata": {},
   "source": [
    "if --- else "
   ]
  },
  {
   "cell_type": "code",
   "execution_count": 5,
   "metadata": {},
   "outputs": [
    {
     "name": "stdout",
     "output_type": "stream",
     "text": [
      "0\n",
      "Negative number\n"
     ]
    }
   ],
   "source": [
    "n = int (input (\"Enter any number \"))\n",
    "print(n)\n",
    "num = n\n",
    "if num > 0:\n",
    "    print(\"Positive \")\n",
    "else:\n",
    "    print(\"Negative number\")"
   ]
  }
 ],
 "metadata": {
  "kernelspec": {
   "display_name": "Python 3.10.4 64-bit",
   "language": "python",
   "name": "python3"
  },
  "language_info": {
   "codemirror_mode": {
    "name": "ipython",
    "version": 3
   },
   "file_extension": ".py",
   "mimetype": "text/x-python",
   "name": "python",
   "nbconvert_exporter": "python",
   "pygments_lexer": "ipython3",
   "version": "3.10.4"
  },
  "orig_nbformat": 4,
  "vscode": {
   "interpreter": {
    "hash": "08b55dbc0df62684253e7d218fb84376bbb05eb2e07a2bc5613d5589b4910351"
   }
  }
 },
 "nbformat": 4,
 "nbformat_minor": 2
}
